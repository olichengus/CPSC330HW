{
 "cells": [
  {
   "cell_type": "markdown",
   "metadata": {},
   "source": [
    "# CPSC 330 - Applied Machine Learning \n",
    "\n",
    "## Homework 5: Putting it all together \n",
    "### Associated lectures: All material till lecture 11\n",
    "\n",
    "**Feb 26, 11:59pm: See the [Calendar](https://github.com/UBC-CS/cpsc330-2023W2/tree/main?tab=readme-ov-file#deliverable-due-dates-tentative).**"
   ]
  },
  {
   "cell_type": "markdown",
   "metadata": {
    "tags": []
   },
   "source": [
    "## Submission instructions <a name=\"si\"></a>\n",
    "<hr>\n",
    "\n",
    "_points: 4_\n",
    "\n",
    "You will receive marks for correctly submitting this assignment. To submit this assignment, follow the instructions below:\n",
    "\n",
    "- **You may work on this assignment in a group (group size <= 4) and submit your assignment as a group.** \n",
    "- Below are some instructions on working as a group.  \n",
    "    - The maximum group size is 4.\n",
    "    - You can choose your own group members. \n",
    "    - Use group work as an opportunity to collaborate and learn new things from each other. \n",
    "    - Be respectful to each other and make sure you understand all the concepts in the assignment well. \n",
    "    - It's your responsibility to make sure that the assignment is submitted by one of the group members before the deadline. \n",
    "- Be sure to follow the [homework submission instructions](https://github.com/UBC-CS/cpsc330-2023W2/blob/main/docs/homework_instructions.md)."
   ]
  },
  {
   "cell_type": "markdown",
   "metadata": {},
   "source": [
    "## Imports"
   ]
  },
  {
   "cell_type": "code",
   "execution_count": 2,
   "metadata": {},
   "outputs": [
    {
     "name": "stderr",
     "output_type": "stream",
     "text": [
      "/var/folders/9r/057q903d2zg1k0677jxxqd4w0000gn/T/ipykernel_896/1727219184.py:9: DeprecationWarning: \n",
      "Pyarrow will become a required dependency of pandas in the next major release of pandas (pandas 3.0),\n",
      "(to allow more performant data types, such as the Arrow string type, and better interoperability with other libraries)\n",
      "but was not found to be installed on your system.\n",
      "If this would cause problems for you,\n",
      "please provide us feedback at https://github.com/pandas-dev/pandas/issues/54466\n",
      "        \n",
      "  import pandas as pd\n"
     ]
    }
   ],
   "source": [
    "import os\n",
    "\n",
    "%matplotlib inline\n",
    "import string\n",
    "import sys\n",
    "\n",
    "import matplotlib.pyplot as plt\n",
    "import numpy as np\n",
    "import pandas as pd\n",
    "\n",
    "import os\n",
    "import re\n",
    "import sys\n",
    "from hashlib import sha1\n",
    "\n",
    "import matplotlib.pyplot as plt\n",
    "import numpy as np\n",
    "import pandas as pd\n",
    "# import tests_hw5\n",
    "from sklearn import datasets\n",
    "from sklearn.compose import make_column_transformer\n",
    "from sklearn.dummy import DummyClassifier, DummyRegressor\n",
    "from sklearn.ensemble import RandomForestClassifier, RandomForestRegressor\n",
    "from sklearn.linear_model import LogisticRegression, Ridge\n",
    "from sklearn.metrics import (\n",
    "    accuracy_score,\n",
    "    classification_report,\n",
    "    confusion_matrix,\n",
    "    f1_score,\n",
    "    make_scorer,\n",
    "    precision_score,\n",
    "    recall_score,\n",
    ")\n",
    "from sklearn.model_selection import (\n",
    "    GridSearchCV,\n",
    "    RandomizedSearchCV,\n",
    "    cross_val_score,\n",
    "    cross_validate,\n",
    "    train_test_split,\n",
    ")\n",
    "from sklearn.pipeline import Pipeline, make_pipeline\n",
    "from sklearn.preprocessing import OneHotEncoder, OrdinalEncoder, StandardScaler"
   ]
  },
  {
   "cell_type": "markdown",
   "metadata": {},
   "source": [
    "## Introduction <a name=\"in\"></a>\n",
    "\n",
    "In this homework you will be working on an open-ended mini-project, where you will put all the different things you have learned so far together to solve an interesting problem.\n",
    "\n",
    "A few notes and tips when you work on this mini-project: \n",
    "\n",
    "#### Tips\n",
    "1. This mini-project is open-ended, and while working on it, there might be some situations where you'll have to use your own judgment and make your own decisions (as you would be doing when you work as a data scientist). Make sure you explain your decisions whenever necessary. \n",
    "2. **Do not include everything you ever tried in your submission** -- it's fine just to have your final code. That said, your code should be reproducible and well-documented. For example, if you chose your hyperparameters based on some hyperparameter optimization experiment, you should leave in the code for that experiment so that someone else could re-run it and obtain the same hyperparameters, rather than mysteriously just setting the hyperparameters to some (carefully chosen) values in your code. \n",
    "3. If you realize that you are repeating a lot of code try to organize it in functions. Clear presentation of your code, experiments, and results is the key to be successful in this lab. You may use code from lecture notes or previous lab solutions with appropriate attributions. \n",
    "\n",
    "#### Assessment\n",
    "We plan to grade fairly and leniently. We don't have some secret target score that you need to achieve to get a good grade. **You'll be assessed on demonstration of mastery of course topics, clear presentation, and the quality of your analysis and results.** For example, if you just have a bunch of code and no text or figures, that's not good. If you do a bunch of sane things and get a lower accuracy than your friend, don't sweat it.\n",
    "\n",
    "\n",
    "#### A final note\n",
    "Finally, this style of this \"project\" question is different from other assignments. It'll be up to you to decide when you're \"done\" -- in fact, this is one of the hardest parts of real projects. But please don't spend WAY too much time on this... perhaps \"a few hours\". Of course if you're having fun you're welcome to spend as much time as you want! But, if so, try not to do it out of perfectionism or getting the best possible grade. Do it because you're learning and enjoying it. Students from the past cohorts have found such kind of labs useful and fun and I hope you enjoy it as well. "
   ]
  },
  {
   "cell_type": "markdown",
   "metadata": {},
   "source": [
    "<br><br>"
   ]
  },
  {
   "cell_type": "markdown",
   "metadata": {},
   "source": [
    "<!-- BEGIN QUESTION -->\n",
    "\n",
    "## 1. Pick your problem and explain the prediction problem <a name=\"1\"></a>\n",
    "<hr>\n",
    "\n",
    "_points: 3_\n",
    "\n",
    "In this mini project, you will be working on a classification problem of predicting whether a credit card client will default or not. \n",
    "For this problem, you will use [Default of Credit Card Clients Dataset](https://www.kaggle.com/uciml/default-of-credit-card-clients-dataset). In this data set, there are 30,000 examples and 24 features, and the goal is to estimate whether a person will default (fail to pay) their credit card bills; this column is labeled \"default.payment.next.month\" in the data. The rest of the columns can be used as features. You may take some ideas and compare your results with [the associated research paper](https://www.sciencedirect.com/science/article/pii/S0957417407006719), which is available through [the UBC library](https://www.library.ubc.ca/). \n",
    "\n",
    "**Your tasks:**\n",
    "\n",
    "1. Spend some time understanding the problem and what each feature means. You can find this information in the documentation on [the dataset page on Kaggle](https://www.kaggle.com/uciml/default-of-credit-card-clients-dataset). Write a few sentences on your initial thoughts on the problem and the dataset. \n",
    "2. Download the dataset and read it as a pandas dataframe. "
   ]
  },
  {
   "cell_type": "markdown",
   "metadata": {},
   "source": [
    "<div class=\"alert alert-warning\">\n",
    "    \n",
    "Solution_1\n",
    "    \n",
    "</div>"
   ]
  },
  {
   "cell_type": "markdown",
   "metadata": {},
   "source": [
    "As a first review, a notable aspect of the dataset is the inclusion of sequential repayment status (PAY_0 to PAY_6), offering a temporal dimension to the clients' financial behavior. This can be particularly insightful for identifying patterns or trends in repayment habits over time. Additionally, the mix of categorical (like education and marriage) and continuous variables (like age and bill amounts) could provide a comprehensive view of the factors influencing credit risk. However, it looks like there is a  class imbalance (most clients do not default) so we need to be careful especially when we evaluate the models using metrics.\n",
    "\n",
    "Also, regarding some undescribed values in the payment status, based on the info I found on the discussion page of kaggle:\n",
    "- -2 (No consumption): This status indicates that there were no new charges on the account for that month.\n",
    "- 0 (The use of revolving credit): This status suggests that the minimum payment was made, but the full balance wasn't paid off (i.e., the client is utilizing revolving credit).\n",
    "\r\n"
   ]
  },
  {
   "cell_type": "code",
   "execution_count": 47,
   "metadata": {},
   "outputs": [
    {
     "data": {
      "text/html": [
       "<div>\n",
       "<style scoped>\n",
       "    .dataframe tbody tr th:only-of-type {\n",
       "        vertical-align: middle;\n",
       "    }\n",
       "\n",
       "    .dataframe tbody tr th {\n",
       "        vertical-align: top;\n",
       "    }\n",
       "\n",
       "    .dataframe thead th {\n",
       "        text-align: right;\n",
       "    }\n",
       "</style>\n",
       "<table border=\"1\" class=\"dataframe\">\n",
       "  <thead>\n",
       "    <tr style=\"text-align: right;\">\n",
       "      <th></th>\n",
       "      <th>ID</th>\n",
       "      <th>LIMIT_BAL</th>\n",
       "      <th>SEX</th>\n",
       "      <th>EDUCATION</th>\n",
       "      <th>MARRIAGE</th>\n",
       "      <th>AGE</th>\n",
       "      <th>PAY_0</th>\n",
       "      <th>PAY_2</th>\n",
       "      <th>PAY_3</th>\n",
       "      <th>PAY_4</th>\n",
       "      <th>...</th>\n",
       "      <th>BILL_AMT4</th>\n",
       "      <th>BILL_AMT5</th>\n",
       "      <th>BILL_AMT6</th>\n",
       "      <th>PAY_AMT1</th>\n",
       "      <th>PAY_AMT2</th>\n",
       "      <th>PAY_AMT3</th>\n",
       "      <th>PAY_AMT4</th>\n",
       "      <th>PAY_AMT5</th>\n",
       "      <th>PAY_AMT6</th>\n",
       "      <th>default.payment.next.month</th>\n",
       "    </tr>\n",
       "  </thead>\n",
       "  <tbody>\n",
       "    <tr>\n",
       "      <th>0</th>\n",
       "      <td>1</td>\n",
       "      <td>20000.0</td>\n",
       "      <td>2</td>\n",
       "      <td>2</td>\n",
       "      <td>1</td>\n",
       "      <td>24</td>\n",
       "      <td>2</td>\n",
       "      <td>2</td>\n",
       "      <td>-1</td>\n",
       "      <td>-1</td>\n",
       "      <td>...</td>\n",
       "      <td>0.0</td>\n",
       "      <td>0.0</td>\n",
       "      <td>0.0</td>\n",
       "      <td>0.0</td>\n",
       "      <td>689.0</td>\n",
       "      <td>0.0</td>\n",
       "      <td>0.0</td>\n",
       "      <td>0.0</td>\n",
       "      <td>0.0</td>\n",
       "      <td>1</td>\n",
       "    </tr>\n",
       "    <tr>\n",
       "      <th>1</th>\n",
       "      <td>2</td>\n",
       "      <td>120000.0</td>\n",
       "      <td>2</td>\n",
       "      <td>2</td>\n",
       "      <td>2</td>\n",
       "      <td>26</td>\n",
       "      <td>-1</td>\n",
       "      <td>2</td>\n",
       "      <td>0</td>\n",
       "      <td>0</td>\n",
       "      <td>...</td>\n",
       "      <td>3272.0</td>\n",
       "      <td>3455.0</td>\n",
       "      <td>3261.0</td>\n",
       "      <td>0.0</td>\n",
       "      <td>1000.0</td>\n",
       "      <td>1000.0</td>\n",
       "      <td>1000.0</td>\n",
       "      <td>0.0</td>\n",
       "      <td>2000.0</td>\n",
       "      <td>1</td>\n",
       "    </tr>\n",
       "    <tr>\n",
       "      <th>2</th>\n",
       "      <td>3</td>\n",
       "      <td>90000.0</td>\n",
       "      <td>2</td>\n",
       "      <td>2</td>\n",
       "      <td>2</td>\n",
       "      <td>34</td>\n",
       "      <td>0</td>\n",
       "      <td>0</td>\n",
       "      <td>0</td>\n",
       "      <td>0</td>\n",
       "      <td>...</td>\n",
       "      <td>14331.0</td>\n",
       "      <td>14948.0</td>\n",
       "      <td>15549.0</td>\n",
       "      <td>1518.0</td>\n",
       "      <td>1500.0</td>\n",
       "      <td>1000.0</td>\n",
       "      <td>1000.0</td>\n",
       "      <td>1000.0</td>\n",
       "      <td>5000.0</td>\n",
       "      <td>0</td>\n",
       "    </tr>\n",
       "    <tr>\n",
       "      <th>3</th>\n",
       "      <td>4</td>\n",
       "      <td>50000.0</td>\n",
       "      <td>2</td>\n",
       "      <td>2</td>\n",
       "      <td>1</td>\n",
       "      <td>37</td>\n",
       "      <td>0</td>\n",
       "      <td>0</td>\n",
       "      <td>0</td>\n",
       "      <td>0</td>\n",
       "      <td>...</td>\n",
       "      <td>28314.0</td>\n",
       "      <td>28959.0</td>\n",
       "      <td>29547.0</td>\n",
       "      <td>2000.0</td>\n",
       "      <td>2019.0</td>\n",
       "      <td>1200.0</td>\n",
       "      <td>1100.0</td>\n",
       "      <td>1069.0</td>\n",
       "      <td>1000.0</td>\n",
       "      <td>0</td>\n",
       "    </tr>\n",
       "    <tr>\n",
       "      <th>4</th>\n",
       "      <td>5</td>\n",
       "      <td>50000.0</td>\n",
       "      <td>1</td>\n",
       "      <td>2</td>\n",
       "      <td>1</td>\n",
       "      <td>57</td>\n",
       "      <td>-1</td>\n",
       "      <td>0</td>\n",
       "      <td>-1</td>\n",
       "      <td>0</td>\n",
       "      <td>...</td>\n",
       "      <td>20940.0</td>\n",
       "      <td>19146.0</td>\n",
       "      <td>19131.0</td>\n",
       "      <td>2000.0</td>\n",
       "      <td>36681.0</td>\n",
       "      <td>10000.0</td>\n",
       "      <td>9000.0</td>\n",
       "      <td>689.0</td>\n",
       "      <td>679.0</td>\n",
       "      <td>0</td>\n",
       "    </tr>\n",
       "  </tbody>\n",
       "</table>\n",
       "<p>5 rows × 25 columns</p>\n",
       "</div>"
      ],
      "text/plain": [
       "   ID  LIMIT_BAL  SEX  EDUCATION  MARRIAGE  AGE  PAY_0  PAY_2  PAY_3  PAY_4  \\\n",
       "0   1    20000.0    2          2         1   24      2      2     -1     -1   \n",
       "1   2   120000.0    2          2         2   26     -1      2      0      0   \n",
       "2   3    90000.0    2          2         2   34      0      0      0      0   \n",
       "3   4    50000.0    2          2         1   37      0      0      0      0   \n",
       "4   5    50000.0    1          2         1   57     -1      0     -1      0   \n",
       "\n",
       "   ...  BILL_AMT4  BILL_AMT5  BILL_AMT6  PAY_AMT1  PAY_AMT2  PAY_AMT3  \\\n",
       "0  ...        0.0        0.0        0.0       0.0     689.0       0.0   \n",
       "1  ...     3272.0     3455.0     3261.0       0.0    1000.0    1000.0   \n",
       "2  ...    14331.0    14948.0    15549.0    1518.0    1500.0    1000.0   \n",
       "3  ...    28314.0    28959.0    29547.0    2000.0    2019.0    1200.0   \n",
       "4  ...    20940.0    19146.0    19131.0    2000.0   36681.0   10000.0   \n",
       "\n",
       "   PAY_AMT4  PAY_AMT5  PAY_AMT6  default.payment.next.month  \n",
       "0       0.0       0.0       0.0                           1  \n",
       "1    1000.0       0.0    2000.0                           1  \n",
       "2    1000.0    1000.0    5000.0                           0  \n",
       "3    1100.0    1069.0    1000.0                           0  \n",
       "4    9000.0     689.0     679.0                           0  \n",
       "\n",
       "[5 rows x 25 columns]"
      ]
     },
     "execution_count": 47,
     "metadata": {},
     "output_type": "execute_result"
    }
   ],
   "source": [
    "clients_df = pd.read_csv(\"data/UCI_Credit_Card.csv\")\n",
    "clients_df.head()"
   ]
  },
  {
   "cell_type": "markdown",
   "metadata": {},
   "source": [
    "<!-- END QUESTION -->\n",
    "\n",
    "<br><br>"
   ]
  },
  {
   "cell_type": "markdown",
   "metadata": {},
   "source": [
    "<!-- BEGIN QUESTION -->\n",
    "\n",
    "## 2. Data splitting <a name=\"2\"></a>\n",
    "<hr>\n",
    "\n",
    "_points: 2_\n",
    "\n",
    "**Your tasks:**\n",
    "\n",
    "1. Split the data into train (70%) and test (30%) portions with `random_state=76`.\n",
    "\n",
    "> If your computer cannot handle training on 70% training data, make the test split bigger.  "
   ]
  },
  {
   "cell_type": "markdown",
   "metadata": {},
   "source": [
    "<div class=\"alert alert-warning\">\n",
    "    \n",
    "Solution_2\n",
    "    \n",
    "</div>"
   ]
  },
  {
   "cell_type": "code",
   "execution_count": 48,
   "metadata": {},
   "outputs": [
    {
     "name": "stdout",
     "output_type": "stream",
     "text": [
      "        ID  LIMIT_BAL  SEX  EDUCATION  MARRIAGE  AGE  PAY_0  PAY_2  PAY_3  \\\n",
      "617    618   270000.0    2          2         1   56      0      0      0   \n",
      "6004  6005    80000.0    2          3         1   33      0      0      0   \n",
      "9257  9258   210000.0    2          1         2   30     -1     -1     -1   \n",
      "\n",
      "      PAY_4  ...  BILL_AMT4  BILL_AMT5  BILL_AMT6  PAY_AMT1  PAY_AMT2  \\\n",
      "617       0  ...   106651.0   109294.0   101151.0    5000.0    5000.0   \n",
      "6004      0  ...    48315.0    48831.0    48950.0    3373.0    7248.0   \n",
      "9257     -1  ...    13740.0     6813.0     2144.0    3033.0    1172.0   \n",
      "\n",
      "      PAY_AMT3  PAY_AMT4  PAY_AMT5  PAY_AMT6  default.payment.next.month  \n",
      "617     3953.0    4500.0    4000.0    3900.0                           0  \n",
      "6004    2980.0    2000.0    1903.0    1851.0                           0  \n",
      "9257   13940.0       0.0       0.0       0.0                           0  \n",
      "\n",
      "[3 rows x 25 columns]\n",
      "          ID  LIMIT_BAL  SEX  EDUCATION  MARRIAGE  AGE  PAY_0  PAY_2  PAY_3  \\\n",
      "29899  29900   140000.0    1          1         2   29      0      0      0   \n",
      "3530    3531   100000.0    2          3         1   24     -1     -1     -1   \n",
      "14107  14108   360000.0    1          1         1   29      0      0      0   \n",
      "\n",
      "       PAY_4  ...  BILL_AMT4  BILL_AMT5  BILL_AMT6  PAY_AMT1  PAY_AMT2  \\\n",
      "29899      0  ...   140057.0   100177.0   100873.0    6100.0    5528.0   \n",
      "3530      -1  ...      470.0        0.0        0.0     500.0     470.0   \n",
      "14107      0  ...     8835.0     3421.0     2391.0    2094.0    1760.0   \n",
      "\n",
      "       PAY_AMT3  PAY_AMT4  PAY_AMT5  PAY_AMT6  default.payment.next.month  \n",
      "29899    4500.0    3500.0    4000.0    4000.0                           1  \n",
      "3530      470.0       0.0       0.0       0.0                           0  \n",
      "14107     204.0      17.0    2403.0       0.0                           0  \n",
      "\n",
      "[3 rows x 25 columns]\n"
     ]
    }
   ],
   "source": [
    "# my computer could not run SVC with the training split\n",
    "train_df, test_df = train_test_split(clients_df, test_size=0.6, random_state=76)\n",
    "print(train_df.head(3))\n",
    "print(test_df.head(3))"
   ]
  },
  {
   "cell_type": "markdown",
   "metadata": {},
   "source": [
    "<!-- END QUESTION -->\n",
    "\n",
    "<br><br>"
   ]
  },
  {
   "cell_type": "markdown",
   "metadata": {},
   "source": [
    "<!-- BEGIN QUESTION -->\n",
    "\n",
    "## 3. EDA <a name=\"3\"></a>\n",
    "<hr>\n",
    "\n",
    "_points: 10_\n",
    "\n",
    "**Your tasks:**\n",
    "\n",
    "1. Perform exploratory data analysis on the train set.\n",
    "2. Include at least two summary statistics and two visualizations that you find useful, and accompany each one with a sentence explaining it.\n",
    "3. Summarize your initial observations about the data. \n",
    "4. Pick appropriate metric/metrics for assessment. "
   ]
  },
  {
   "cell_type": "markdown",
   "metadata": {},
   "source": [
    "<div class=\"alert alert-warning\">\n",
    "    \n",
    "Solution_3\n",
    "    \n",
    "</div>"
   ]
  },
  {
   "cell_type": "code",
   "execution_count": 49,
   "metadata": {},
   "outputs": [
    {
     "name": "stdout",
     "output_type": "stream",
     "text": [
      "                AGE      LIMIT_BAL      BILL_AMT1      BILL_AMT2  \\\n",
      "count  12000.000000   12000.000000   12000.000000   12000.000000   \n",
      "mean      35.481417  168066.333333   51672.635583   49712.059167   \n",
      "std        9.159193  130041.999023   75234.838912   72613.849336   \n",
      "min       21.000000   10000.000000 -154973.000000  -69777.000000   \n",
      "25%       28.000000   50000.000000    3405.750000    2941.250000   \n",
      "50%       34.000000  140000.000000   21660.500000   20801.000000   \n",
      "75%       41.000000  240000.000000   66978.250000   64259.000000   \n",
      "max       75.000000  800000.000000  746814.000000  743970.000000   \n",
      "\n",
      "          BILL_AMT3      BILL_AMT4      BILL_AMT5      BILL_AMT6  \\\n",
      "count  1.200000e+04   12000.000000   12000.000000   12000.000000   \n",
      "mean   4.751255e+04   43533.904083   40420.842000   38803.354167   \n",
      "std    7.107486e+04   64661.481121   61068.872216   59467.714050   \n",
      "min   -6.150600e+04 -170000.000000  -61372.000000 -209051.000000   \n",
      "25%    2.500000e+03    2289.750000    1656.750000    1173.000000   \n",
      "50%    2.001050e+04   18987.000000   17937.000000   16995.500000   \n",
      "75%    6.075700e+04   55047.500000   50134.750000   48980.750000   \n",
      "max    1.664089e+06  706864.000000  823540.000000  527566.000000   \n",
      "\n",
      "            PAY_AMT1      PAY_AMT2       PAY_AMT3       PAY_AMT4  \\\n",
      "count   12000.000000  1.200000e+04   12000.000000   12000.000000   \n",
      "mean     5658.888917  6.164246e+03    5206.193500    4782.103750   \n",
      "std     16230.223846  2.609588e+04   17363.364441   16677.691601   \n",
      "min         0.000000  0.000000e+00       0.000000       0.000000   \n",
      "25%      1000.000000  8.320000e+02     390.000000     252.000000   \n",
      "50%      2185.500000  2.011000e+03    1805.500000    1500.000000   \n",
      "75%      5100.000000  5.000000e+03    4643.250000    4000.000000   \n",
      "max    873552.000000  1.684259e+06  889043.000000  621000.000000   \n",
      "\n",
      "            PAY_AMT5       PAY_AMT6  \n",
      "count   12000.000000   12000.000000  \n",
      "mean     4789.122750    5204.216667  \n",
      "std     16089.683452   17414.501921  \n",
      "min         0.000000       0.000000  \n",
      "25%       204.000000     128.750000  \n",
      "50%      1500.000000    1500.000000  \n",
      "75%      4073.250000    4019.250000  \n",
      "max    426529.000000  528666.000000  \n"
     ]
    }
   ],
   "source": [
    "# 1. Descriptive statistics for numerical variables\n",
    "numerical_columns = ['AGE', 'LIMIT_BAL', 'BILL_AMT1', 'BILL_AMT2', 'BILL_AMT3', \n",
    "                     'BILL_AMT4', 'BILL_AMT5', 'BILL_AMT6', 'PAY_AMT1', 'PAY_AMT2', \n",
    "                     'PAY_AMT3', 'PAY_AMT4', 'PAY_AMT5', 'PAY_AMT6']\n",
    "print(train_df[numerical_columns].describe())"
   ]
  },
  {
   "cell_type": "markdown",
   "metadata": {},
   "source": [
    "- The clients range from 21 to 79 years old, with an average age of around 35 years. The age distribution is fairly even.\n",
    "- The bill amounts and the payment amounts vary widely, with a general trend of payments being more than the bill amounts."
   ]
  },
  {
   "cell_type": "code",
   "execution_count": 50,
   "metadata": {},
   "outputs": [
    {
     "name": "stdout",
     "output_type": "stream",
     "text": [
      "\n",
      " Frequency distribution for SEX:\n",
      "SEX\n",
      "2    7159\n",
      "1    4841\n",
      "Name: count, dtype: int64\n",
      "\n",
      " Frequency distribution for EDUCATION:\n",
      "EDUCATION\n",
      "2    5602\n",
      "1    4241\n",
      "3    1951\n",
      "5     129\n",
      "4      53\n",
      "6      19\n",
      "0       5\n",
      "Name: count, dtype: int64\n",
      "\n",
      " Frequency distribution for MARRIAGE:\n",
      "MARRIAGE\n",
      "2    6400\n",
      "1    5460\n",
      "3     122\n",
      "0      18\n",
      "Name: count, dtype: int64\n",
      "\n",
      " Frequency distribution for PAY_0:\n",
      "PAY_0\n",
      " 0    5852\n",
      "-1    2287\n",
      " 1    1483\n",
      "-2    1103\n",
      " 2    1079\n",
      " 3     138\n",
      " 4      35\n",
      " 5      10\n",
      " 8       6\n",
      " 6       4\n",
      " 7       3\n",
      "Name: count, dtype: int64\n",
      "\n",
      " Frequency distribution for PAY_2:\n",
      "PAY_2\n",
      " 0    6227\n",
      "-1    2462\n",
      " 2    1600\n",
      "-2    1522\n",
      " 3     117\n",
      " 4      37\n",
      " 1      14\n",
      " 5      11\n",
      " 7       6\n",
      " 6       4\n",
      "Name: count, dtype: int64\n",
      "\n",
      " Frequency distribution for PAY_3:\n",
      "PAY_3\n",
      " 0    6310\n",
      "-1    2392\n",
      "-2    1630\n",
      " 2    1522\n",
      " 3      86\n",
      " 4      33\n",
      " 7       9\n",
      " 6       7\n",
      " 5       7\n",
      " 8       3\n",
      " 1       1\n",
      "Name: count, dtype: int64\n",
      "\n",
      " Frequency distribution for PAY_4:\n",
      "PAY_4\n",
      " 0    6604\n",
      "-1    2241\n",
      "-2    1760\n",
      " 2    1245\n",
      " 3      81\n",
      " 4      33\n",
      " 7      25\n",
      " 5       9\n",
      " 8       1\n",
      " 6       1\n",
      "Name: count, dtype: int64\n",
      "\n",
      " Frequency distribution for PAY_5:\n",
      "PAY_5\n",
      " 0    6774\n",
      "-1    2195\n",
      "-2    1845\n",
      " 2    1042\n",
      " 3      75\n",
      " 4      34\n",
      " 7      23\n",
      " 5       8\n",
      " 6       3\n",
      " 8       1\n",
      "Name: count, dtype: int64\n",
      "\n",
      " Frequency distribution for PAY_6:\n",
      "PAY_6\n",
      " 0    6511\n",
      "-1    2288\n",
      "-2    1981\n",
      " 2    1090\n",
      " 3      78\n",
      " 7      20\n",
      " 4      20\n",
      " 6       6\n",
      " 5       5\n",
      " 8       1\n",
      "Name: count, dtype: int64\n"
     ]
    }
   ],
   "source": [
    "# 2. Frequency distributions for categorical variables\n",
    "categorical_columns = ['SEX', 'EDUCATION', 'MARRIAGE', 'PAY_0', 'PAY_2', \n",
    "                       'PAY_3', 'PAY_4', 'PAY_5', 'PAY_6']\n",
    "for col in categorical_columns:\n",
    "    print(f\"\\n Frequency distribution for {col}:\")\n",
    "    print(train_df[col].value_counts())"
   ]
  },
  {
   "cell_type": "markdown",
   "metadata": {},
   "source": [
    "- There are more females than males.\n",
    "- Most clients have a university or graduate school education. \n",
    "Fewer clients have high school educatin, and a small number have other types of educatin or  are unknow.\n",
    "- Singles (11,225) are the most common, followed by married individuals (9,508). A small number are categorized as 'other' (230) or unspecified (37).\n",
    "- A significant number of clients use revolving credit (status 0) or pay in full (status -1) across all months. There are instances of no consumption (status -2) which is also notable.\n",
    "- There is no one who delays nine months and above to pay.."
   ]
  },
  {
   "cell_type": "code",
   "execution_count": 51,
   "metadata": {},
   "outputs": [
    {
     "data": {
      "image/png": "[encoded data removed]",
      "text/plain": [
       "<Figure size 1000x600 with 1 Axes>"
      ]
     },
     "metadata": {},
     "output_type": "display_data"
    }
   ],
   "source": [
    "# Visualization 1: Bar plot for 'default.payment.next.month'\n",
    "# Calculating frequencies\n",
    "default_counts = train_df['default.payment.next.month'].value_counts()\n",
    "plt.figure(figsize=(10, 6))\n",
    "plt.bar(default_counts.index, default_counts.values, color=['blue', 'orange'])\n",
    "plt.title('Proportion of Default Payment Next Month')\n",
    "plt.xlabel('Default Payment Next Month (0 = No, 1 = Yes)')\n",
    "plt.ylabel('Frequency')\n",
    "plt.xticks([0, 1])  # Set x-ticks to represent the two categories\n",
    "plt.show()"
   ]
  },
  {
   "cell_type": "markdown",
   "metadata": {},
   "source": [
    "- Based on this chart, we can clearly see the class imbalance and more specifically, about 22% of clients in this dataset defaulted the next month."
   ]
  },
  {
   "cell_type": "code",
   "execution_count": 52,
   "metadata": {},
   "outputs": [
    {
     "data": {
      "image/png": "[encoded data removed]",
      "text/plain": [
       "<Figure size 1000x600 with 1 Axes>"
      ]
     },
     "metadata": {},
     "output_type": "display_data"
    },
    {
     "data": {
      "image/png": "[encoded data removed]",
      "text/plain": [
       "<Figure size 1000x600 with 1 Axes>"
      ]
     },
     "metadata": {},
     "output_type": "display_data"
    },
    {
     "data": {
      "image/png": "[encoded data removed]",
      "text/plain": [
       "<Figure size 1000x600 with 1 Axes>"
      ]
     },
     "metadata": {},
     "output_type": "display_data"
    },
    {
     "data": {
      "image/png": "[encoded data removed]",
      "text/plain": [
       "<Figure size 1000x600 with 1 Axes>"
      ]
     },
     "metadata": {},
     "output_type": "display_data"
    },
    {
     "data": {
      "image/png": "[encoded data removed]",
      "text/plain": [
       "<Figure size 1000x600 with 1 Axes>"
      ]
     },
     "metadata": {},
     "output_type": "display_data"
    },
    {
     "data": {
      "image/png": "[encoded data removed]",
      "text/plain": [
       "<Figure size 1000x600 with 1 Axes>"
      ]
     },
     "metadata": {},
     "output_type": "display_data"
    }
   ],
   "source": [
    "# Function to calculate default probability for a given repayment status variable\n",
    "def calculate_default_probability(df, pay_status_col):\n",
    "    # Group by repayment status and calculate mean default probability\n",
    "    default_prob = df.groupby(pay_status_col)['default.payment.next.month'].mean()\n",
    "    return default_prob\n",
    "\n",
    "pay_status_columns = ['PAY_0', 'PAY_2', 'PAY_3', 'PAY_4', 'PAY_5', 'PAY_6']\n",
    "for col in pay_status_columns:\n",
    "    default_prob = calculate_default_probability(train_df, col)\n",
    "    # Create a bar chart\n",
    "    plt.figure(figsize=(10, 6))\n",
    "    default_prob.plot(kind='bar', color='skyblue')\n",
    "    plt.title(f' Repayment Status ({col}) vs Default Probability')\n",
    "    plt.xlabel(f' Repayment Status ({col})')\n",
    "    plt.ylabel('Default Probability')\n",
    "    plt.show()"
   ]
  },
  {
   "cell_type": "markdown",
   "metadata": {},
   "source": [
    "- Across all months, there is a noticeable trend where a delay in payment (represented by higher values in the repayment status) is associated with a higher probability of defaulting the next month."
   ]
  },
  {
   "cell_type": "markdown",
   "metadata": {},
   "source": [
    "<!-- END QUESTION -->\n",
    "\n",
    "<br><br>"
   ]
  },
  {
   "cell_type": "markdown",
   "metadata": {},
   "source": [
    "<!-- BEGIN QUESTION -->\n",
    "\n",
    "## 4. Preprocessing and transformations <a name=\"5\"></a>\n",
    "<hr>\n",
    "\n",
    "_points: 10_\n",
    "\n",
    "**Your tasks:**\n",
    "\n",
    "1. Identify different feature types and the transformations you would apply on each feature type. \n",
    "2. Define a column transformer, if necessary. "
   ]
  },
  {
   "cell_type": "markdown",
   "metadata": {},
   "source": [
    "<div class=\"alert alert-warning\">\n",
    "    \n",
    "Solution_4\n",
    "    \n",
    "</div>"
   ]
  },
  {
   "cell_type": "code",
   "execution_count": 53,
   "metadata": {},
   "outputs": [],
   "source": [
    "numeric_features = ['LIMIT_BAL', 'AGE', 'BILL_AMT1', 'BILL_AMT2', 'BILL_AMT3', \n",
    "                    'BILL_AMT4', 'BILL_AMT5', 'BILL_AMT6', 'PAY_AMT1', 'PAY_AMT2', \n",
    "                    'PAY_AMT3', 'PAY_AMT4', 'PAY_AMT5', 'PAY_AMT6']\n",
    "ordinal_features = ['EDUCATION', 'PAY_0', 'PAY_2', 'PAY_3', 'PAY_4', 'PAY_5', 'PAY_6']\n",
    "# since ordinal features are already expressed as numeric\n",
    "combined_features = numeric_features + ordinal_features \n",
    "categorical_features = ['SEX', 'MARRIAGE']\n",
    "target = 'default.payment.next.month'\n",
    "drop_features = ['ID'] "
   ]
  },
  {
   "cell_type": "code",
   "execution_count": 54,
   "metadata": {},
   "outputs": [],
   "source": [
    "missing_vals_cols = []\n",
    "for column_name in train_df.columns:\n",
    "    if train_df[column_name].isna().any():\n",
    "        missing_vals_cols.append(column_name)"
   ]
  },
  {
   "cell_type": "code",
   "execution_count": 55,
   "metadata": {},
   "outputs": [
    {
     "name": "stdout",
     "output_type": "stream",
     "text": [
      "[]\n"
     ]
    }
   ],
   "source": [
    "print(missing_vals_cols)"
   ]
  },
  {
   "cell_type": "code",
   "execution_count": 56,
   "metadata": {},
   "outputs": [],
   "source": [
    "# Dropping the 'ID' feature from the datasets\n",
    "train_df = train_df.drop(columns=drop_features)\n",
    "test_df = test_df.drop(columns=drop_features)\n",
    "\n",
    "# Replace 0 and 6 of EDUCATION with 5 in both train and test datasets since I don't see the difference.\n",
    "train_df['EDUCATION'] = train_df['EDUCATION'].replace([0, 6], 5)\n",
    "test_df['EDUCATION'] = test_df['EDUCATION'].replace([0, 6], 5)\n",
    "\n",
    "# Replace 0 of MARRIAGE with 3 in both train and test datasets since I don't see the difference.\n",
    "train_df['MARRIAGE'] = train_df['MARRIAGE'].replace(0, 3)\n",
    "test_df['MARRIAGE'] = test_df['MARRIAGE'].replace(0, 3)\n",
    "\n",
    "\n",
    "# Separating the independent variables (X) and the target variable (y)\n",
    "X_train = train_df.drop(columns=target)\n",
    "y_train = train_df[target]\n",
    "\n",
    "X_test = test_df.drop(columns=target)\n",
    "y_test = test_df[target]\n"
   ]
  },
  {
   "cell_type": "code",
   "execution_count": 57,
   "metadata": {},
   "outputs": [],
   "source": [
    "preprocessor = make_column_transformer(\n",
    "    (StandardScaler(), combined_features),\n",
    "    (OneHotEncoder(drop='if_binary', sparse_output=False), categorical_features),\n",
    ")"
   ]
  },
  {
   "cell_type": "code",
   "execution_count": 58,
   "metadata": {},
   "outputs": [],
   "source": [
    "def mean_std_cross_val_scores(model, X_train, y_train, **kwargs):\n",
    "    scores = cross_validate(model, X_train, y_train, **kwargs)\n",
    "\n",
    "    mean_scores = pd.DataFrame(scores).mean()\n",
    "    std_scores = pd.DataFrame(scores).std()\n",
    "    out_col = []\n",
    "\n",
    "    for i in range(len(mean_scores)):\n",
    "        out_col.append((f\"%0.3f (+/- %0.3f)\" % (mean_scores.iloc[i], std_scores.iloc[i])))\n",
    "\n",
    "    return pd.Series(data=out_col, index=mean_scores.index)"
   ]
  },
  {
   "cell_type": "markdown",
   "metadata": {},
   "source": [
    "<!-- END QUESTION -->\n",
    "\n",
    "<br><br>"
   ]
  },
  {
   "cell_type": "markdown",
   "metadata": {},
   "source": [
    "<!-- BEGIN QUESTION -->\n",
    "\n",
    "## 5. Baseline model <a name=\"6\"></a>\n",
    "<hr>\n",
    "\n",
    "_points: 2_\n",
    "\n",
    "**Your tasks:**\n",
    "1. Try `scikit-learn`'s baseline model and report results."
   ]
  },
  {
   "cell_type": "markdown",
   "metadata": {},
   "source": [
    "<div class=\"alert alert-warning\">\n",
    "    \n",
    "Solution_5\n",
    "    \n",
    "</div>"
   ]
  },
  {
   "cell_type": "code",
   "execution_count": 59,
   "metadata": {},
   "outputs": [
    {
     "data": {
      "text/html": [
       "<div>\n",
       "<style scoped>\n",
       "    .dataframe tbody tr th:only-of-type {\n",
       "        vertical-align: middle;\n",
       "    }\n",
       "\n",
       "    .dataframe tbody tr th {\n",
       "        vertical-align: top;\n",
       "    }\n",
       "\n",
       "    .dataframe thead th {\n",
       "        text-align: right;\n",
       "    }\n",
       "</style>\n",
       "<table border=\"1\" class=\"dataframe\">\n",
       "  <thead>\n",
       "    <tr style=\"text-align: right;\">\n",
       "      <th></th>\n",
       "      <th>fit_time</th>\n",
       "      <th>score_time</th>\n",
       "      <th>test_score</th>\n",
       "      <th>train_score</th>\n",
       "    </tr>\n",
       "  </thead>\n",
       "  <tbody>\n",
       "    <tr>\n",
       "      <th>dummy</th>\n",
       "      <td>0.027 (+/- 0.008)</td>\n",
       "      <td>0.011 (+/- 0.006)</td>\n",
       "      <td>0.775 (+/- 0.000)</td>\n",
       "      <td>0.775 (+/- 0.000)</td>\n",
       "    </tr>\n",
       "  </tbody>\n",
       "</table>\n",
       "</div>"
      ],
      "text/plain": [
       "                fit_time         score_time         test_score  \\\n",
       "dummy  0.027 (+/- 0.008)  0.011 (+/- 0.006)  0.775 (+/- 0.000)   \n",
       "\n",
       "             train_score  \n",
       "dummy  0.775 (+/- 0.000)  "
      ]
     },
     "execution_count": 59,
     "metadata": {},
     "output_type": "execute_result"
    }
   ],
   "source": [
    "dummy = DummyClassifier(random_state = 42)\n",
    "pipe = make_pipeline(preprocessor, dummy)\n",
    "results_dict = {} \n",
    "results_dict[\"dummy\"] = mean_std_cross_val_scores(pipe, X_train, y_train, cv=5, return_train_score=True)\r\n",
    "\r\n",
    "# Print the restre'])\n",
    "results_df = pd.DataFrame(results_dict).T\n",
    "results_df"
   ]
  },
  {
   "cell_type": "markdown",
   "metadata": {},
   "source": [
    "<br><br>"
   ]
  },
  {
   "cell_type": "markdown",
   "metadata": {},
   "source": [
    "<!-- BEGIN QUESTION -->\n",
    "\n",
    "## 6. Linear models <a name=\"7\"></a>\n",
    "<hr>\n",
    "\n",
    "_points 10_\n",
    "\n",
    "**Your tasks:**\n",
    "\n",
    "1. Try a linear model as a first real attempt. \n",
    "2. Carry out hyperparameter tuning to explore different values for the complexity hyperparameter. \n",
    "3. Report cross-validation scores along with standard deviation. \n",
    "4. Summarize your results."
   ]
  },
  {
   "cell_type": "markdown",
   "metadata": {},
   "source": [
    "<div class=\"alert alert-warning\">\n",
    "    \n",
    "Solution_6\n",
    "    \n",
    "</div>"
   ]
  },
  {
   "cell_type": "code",
   "execution_count": 60,
   "metadata": {},
   "outputs": [
    {
     "data": {
      "text/html": [
       "<div>\n",
       "<style scoped>\n",
       "    .dataframe tbody tr th:only-of-type {\n",
       "        vertical-align: middle;\n",
       "    }\n",
       "\n",
       "    .dataframe tbody tr th {\n",
       "        vertical-align: top;\n",
       "    }\n",
       "\n",
       "    .dataframe thead th {\n",
       "        text-align: right;\n",
       "    }\n",
       "</style>\n",
       "<table border=\"1\" class=\"dataframe\">\n",
       "  <thead>\n",
       "    <tr style=\"text-align: right;\">\n",
       "      <th></th>\n",
       "      <th>C</th>\n",
       "      <th>mean_std_cv_scores</th>\n",
       "      <th>mean_std_train_scores</th>\n",
       "    </tr>\n",
       "  </thead>\n",
       "  <tbody>\n",
       "    <tr>\n",
       "      <th>0</th>\n",
       "      <td>0.0001</td>\n",
       "      <td>0.776 (+/- 0.001)</td>\n",
       "      <td>0.776 (+/- 0.000)</td>\n",
       "    </tr>\n",
       "    <tr>\n",
       "      <th>1</th>\n",
       "      <td>0.0010</td>\n",
       "      <td>0.791 (+/- 0.003)</td>\n",
       "      <td>0.791 (+/- 0.001)</td>\n",
       "    </tr>\n",
       "    <tr>\n",
       "      <th>2</th>\n",
       "      <td>0.0100</td>\n",
       "      <td>0.803 (+/- 0.007)</td>\n",
       "      <td>0.803 (+/- 0.002)</td>\n",
       "    </tr>\n",
       "    <tr>\n",
       "      <th>3</th>\n",
       "      <td>0.1000</td>\n",
       "      <td>0.805 (+/- 0.008)</td>\n",
       "      <td>0.806 (+/- 0.002)</td>\n",
       "    </tr>\n",
       "    <tr>\n",
       "      <th>4</th>\n",
       "      <td>1.0000</td>\n",
       "      <td>0.805 (+/- 0.008)</td>\n",
       "      <td>0.806 (+/- 0.002)</td>\n",
       "    </tr>\n",
       "    <tr>\n",
       "      <th>5</th>\n",
       "      <td>10.0000</td>\n",
       "      <td>0.805 (+/- 0.008)</td>\n",
       "      <td>0.806 (+/- 0.002)</td>\n",
       "    </tr>\n",
       "    <tr>\n",
       "      <th>6</th>\n",
       "      <td>100.0000</td>\n",
       "      <td>0.805 (+/- 0.008)</td>\n",
       "      <td>0.806 (+/- 0.002)</td>\n",
       "    </tr>\n",
       "    <tr>\n",
       "      <th>7</th>\n",
       "      <td>1000.0000</td>\n",
       "      <td>0.805 (+/- 0.008)</td>\n",
       "      <td>0.806 (+/- 0.002)</td>\n",
       "    </tr>\n",
       "    <tr>\n",
       "      <th>8</th>\n",
       "      <td>10000.0000</td>\n",
       "      <td>0.805 (+/- 0.008)</td>\n",
       "      <td>0.806 (+/- 0.002)</td>\n",
       "    </tr>\n",
       "    <tr>\n",
       "      <th>9</th>\n",
       "      <td>100000.0000</td>\n",
       "      <td>0.805 (+/- 0.008)</td>\n",
       "      <td>0.806 (+/- 0.002)</td>\n",
       "    </tr>\n",
       "    <tr>\n",
       "      <th>10</th>\n",
       "      <td>1000000.0000</td>\n",
       "      <td>0.805 (+/- 0.008)</td>\n",
       "      <td>0.806 (+/- 0.002)</td>\n",
       "    </tr>\n",
       "  </tbody>\n",
       "</table>\n",
       "</div>"
      ],
      "text/plain": [
       "               C mean_std_cv_scores mean_std_train_scores\n",
       "0         0.0001  0.776 (+/- 0.001)     0.776 (+/- 0.000)\n",
       "1         0.0010  0.791 (+/- 0.003)     0.791 (+/- 0.001)\n",
       "2         0.0100  0.803 (+/- 0.007)     0.803 (+/- 0.002)\n",
       "3         0.1000  0.805 (+/- 0.008)     0.806 (+/- 0.002)\n",
       "4         1.0000  0.805 (+/- 0.008)     0.806 (+/- 0.002)\n",
       "5        10.0000  0.805 (+/- 0.008)     0.806 (+/- 0.002)\n",
       "6       100.0000  0.805 (+/- 0.008)     0.806 (+/- 0.002)\n",
       "7      1000.0000  0.805 (+/- 0.008)     0.806 (+/- 0.002)\n",
       "8     10000.0000  0.805 (+/- 0.008)     0.806 (+/- 0.002)\n",
       "9    100000.0000  0.805 (+/- 0.008)     0.806 (+/- 0.002)\n",
       "10  1000000.0000  0.805 (+/- 0.008)     0.806 (+/- 0.002)"
      ]
     },
     "execution_count": 60,
     "metadata": {},
     "output_type": "execute_result"
    }
   ],
   "source": [
    "# taken from lecture 7\n",
    "\n",
    "scores_dict = {\n",
    "    \"C\": 10.0 ** np.arange(-4, 7, 1),\n",
    "    \"mean_std_cv_scores\": list(),\n",
    "    \"mean_std_train_scores\": list()\n",
    "}\n",
    "lr = LogisticRegression()\n",
    "for c in scores_dict[\"C\"]:\n",
    "    linear_pipe = make_pipeline(preprocessor, LogisticRegression(C=c))\n",
    "    scores = mean_std_cross_val_scores(linear_pipe, X_train, y_train, return_train_score=True)\n",
    "    scores_dict[\"mean_std_cv_scores\"].append(scores[\"test_score\"])\n",
    "    scores_dict[\"mean_std_train_scores\"].append(scores[\"train_score\"])\n",
    "    # scores_dict[\"mean_cv_scores\"].append(scores[\"test_score\"].mean())\n",
    "results_df = pd.DataFrame(scores_dict)\n",
    "results_df\n"
   ]
  },
  {
   "cell_type": "code",
   "execution_count": null,
   "metadata": {},
   "outputs": [],
   "source": []
  },
  {
   "cell_type": "markdown",
   "metadata": {},
   "source": [
    "Summary: We have used a Logistic Regression model to find the categorical target. From the hyperparameter tuning, we can see that the training score plateaus at aroun 0.810, so there is not a high chance of overfitting. Overall, it is showing good results if we use a hyperparameter anywhere from 0.1 to 100 reasonably. \n",
    "\n",
    "Lets test this on the test split."
   ]
  },
  {
   "cell_type": "code",
   "execution_count": 64,
   "metadata": {},
   "outputs": [
    {
     "name": "stdout",
     "output_type": "stream",
     "text": [
      "0.8121111111111111\n"
     ]
    }
   ],
   "source": [
    "linear_pipe_test = linear_pipe = make_pipeline(preprocessor, LogisticRegression(C=1))\n",
    "linear_pipe_test.fit(X_train,y_train)\n",
    "print(linear_pipe_test.score(X_test,y_test))"
   ]
  },
  {
   "cell_type": "markdown",
   "metadata": {},
   "source": [
    "As we can the the score on the test split is doing ok, but we might be able to do better."
   ]
  },
  {
   "cell_type": "markdown",
   "metadata": {},
   "source": [
    "<!-- END QUESTION -->\n",
    "\n",
    "<br><br>"
   ]
  },
  {
   "cell_type": "markdown",
   "metadata": {},
   "source": [
    "<!-- BEGIN QUESTION -->\n",
    "\n",
    "## 7. Different models <a name=\"8\"></a>\n",
    "<hr>\n",
    "\n",
    "_points: 12_\n",
    "\n",
    "**Your tasks:**\n",
    "1. Try at least 3 other models aside from a linear model. One of these models should be a tree-based ensemble model. \n",
    "2. Summarize your results in terms of overfitting/underfitting and fit and score times. Can you beat a linear model? "
   ]
  },
  {
   "cell_type": "markdown",
   "metadata": {},
   "source": [
    "<div class=\"alert alert-warning\">\n",
    "    \n",
    "Solution_7\n",
    "    \n",
    "</div>"
   ]
  },
  {
   "cell_type": "code",
   "execution_count": 63,
   "metadata": {},
   "outputs": [
    {
     "data": {
      "text/html": [
       "<div>\n",
       "<style scoped>\n",
       "    .dataframe tbody tr th:only-of-type {\n",
       "        vertical-align: middle;\n",
       "    }\n",
       "\n",
       "    .dataframe tbody tr th {\n",
       "        vertical-align: top;\n",
       "    }\n",
       "\n",
       "    .dataframe thead th {\n",
       "        text-align: right;\n",
       "    }\n",
       "</style>\n",
       "<table border=\"1\" class=\"dataframe\">\n",
       "  <thead>\n",
       "    <tr style=\"text-align: right;\">\n",
       "      <th></th>\n",
       "      <th>fit_time</th>\n",
       "      <th>score_time</th>\n",
       "      <th>test_score</th>\n",
       "      <th>train_score</th>\n",
       "    </tr>\n",
       "  </thead>\n",
       "  <tbody>\n",
       "    <tr>\n",
       "      <th>0</th>\n",
       "      <td>0.120922</td>\n",
       "      <td>0.037585</td>\n",
       "      <td>0.809583</td>\n",
       "      <td>0.824167</td>\n",
       "    </tr>\n",
       "    <tr>\n",
       "      <th>1</th>\n",
       "      <td>0.088896</td>\n",
       "      <td>0.006145</td>\n",
       "      <td>0.822500</td>\n",
       "      <td>0.821354</td>\n",
       "    </tr>\n",
       "    <tr>\n",
       "      <th>2</th>\n",
       "      <td>0.085347</td>\n",
       "      <td>0.005637</td>\n",
       "      <td>0.815000</td>\n",
       "      <td>0.823958</td>\n",
       "    </tr>\n",
       "    <tr>\n",
       "      <th>3</th>\n",
       "      <td>0.078910</td>\n",
       "      <td>0.006544</td>\n",
       "      <td>0.815000</td>\n",
       "      <td>0.823333</td>\n",
       "    </tr>\n",
       "    <tr>\n",
       "      <th>4</th>\n",
       "      <td>0.078192</td>\n",
       "      <td>0.005762</td>\n",
       "      <td>0.809583</td>\n",
       "      <td>0.822708</td>\n",
       "    </tr>\n",
       "  </tbody>\n",
       "</table>\n",
       "</div>"
      ],
      "text/plain": [
       "   fit_time  score_time  test_score  train_score\n",
       "0  0.120922    0.037585    0.809583     0.824167\n",
       "1  0.088896    0.006145    0.822500     0.821354\n",
       "2  0.085347    0.005637    0.815000     0.823958\n",
       "3  0.078910    0.006544    0.815000     0.823333\n",
       "4  0.078192    0.005762    0.809583     0.822708"
      ]
     },
     "execution_count": 63,
     "metadata": {},
     "output_type": "execute_result"
    }
   ],
   "source": [
    "# Decision Tree\n",
    "from sklearn.tree import DecisionTreeClassifier\n",
    "d_tree_pipeline = make_pipeline(preprocessor,DecisionTreeClassifier())\n",
    "cv_scores = cross_validate(d_tree_pipeline,X_train,y_train,return_train_score=True)\n",
    "pd.DataFrame(cv_scores)"
   ]
  },
  {
   "cell_type": "markdown",
   "metadata": {},
   "source": [
    "As we can see, the Decision Tree Classifier is quite overfitted because the training score is very high, meaning it might be too specialised and may not as good when predicting the testing split."
   ]
  },
  {
   "cell_type": "code",
   "execution_count": 38,
   "metadata": {},
   "outputs": [
    {
     "data": {
      "text/html": [
       "<div>\n",
       "<style scoped>\n",
       "    .dataframe tbody tr th:only-of-type {\n",
       "        vertical-align: middle;\n",
       "    }\n",
       "\n",
       "    .dataframe tbody tr th {\n",
       "        vertical-align: top;\n",
       "    }\n",
       "\n",
       "    .dataframe thead th {\n",
       "        text-align: right;\n",
       "    }\n",
       "</style>\n",
       "<table border=\"1\" class=\"dataframe\">\n",
       "  <thead>\n",
       "    <tr style=\"text-align: right;\">\n",
       "      <th></th>\n",
       "      <th>fit_time</th>\n",
       "      <th>score_time</th>\n",
       "      <th>test_score</th>\n",
       "      <th>train_score</th>\n",
       "    </tr>\n",
       "  </thead>\n",
       "  <tbody>\n",
       "    <tr>\n",
       "      <th>0</th>\n",
       "      <td>0.022676</td>\n",
       "      <td>0.080446</td>\n",
       "      <td>0.780833</td>\n",
       "      <td>0.840313</td>\n",
       "    </tr>\n",
       "    <tr>\n",
       "      <th>1</th>\n",
       "      <td>0.014325</td>\n",
       "      <td>0.041726</td>\n",
       "      <td>0.792083</td>\n",
       "      <td>0.838542</td>\n",
       "    </tr>\n",
       "    <tr>\n",
       "      <th>2</th>\n",
       "      <td>0.013446</td>\n",
       "      <td>0.038325</td>\n",
       "      <td>0.783750</td>\n",
       "      <td>0.838854</td>\n",
       "    </tr>\n",
       "    <tr>\n",
       "      <th>3</th>\n",
       "      <td>0.013452</td>\n",
       "      <td>0.037253</td>\n",
       "      <td>0.789583</td>\n",
       "      <td>0.840521</td>\n",
       "    </tr>\n",
       "    <tr>\n",
       "      <th>4</th>\n",
       "      <td>0.014189</td>\n",
       "      <td>0.041144</td>\n",
       "      <td>0.787917</td>\n",
       "      <td>0.838646</td>\n",
       "    </tr>\n",
       "  </tbody>\n",
       "</table>\n",
       "</div>"
      ],
      "text/plain": [
       "   fit_time  score_time  test_score  train_score\n",
       "0  0.022676    0.080446    0.780833     0.840313\n",
       "1  0.014325    0.041726    0.792083     0.838542\n",
       "2  0.013446    0.038325    0.783750     0.838854\n",
       "3  0.013452    0.037253    0.789583     0.840521\n",
       "4  0.014189    0.041144    0.787917     0.838646"
      ]
     },
     "execution_count": 38,
     "metadata": {},
     "output_type": "execute_result"
    }
   ],
   "source": [
    "# KNeighbour\n",
    "from sklearn.neighbors import KNeighborsClassifier\n",
    "knn_pipeline = make_pipeline(preprocessor,KNeighborsClassifier())\n",
    "cv_scores = cross_validate(knn_pipeline,X_train,y_train,return_train_score=True)\n",
    "pd.DataFrame(cv_scores)"
   ]
  },
  {
   "cell_type": "code",
   "execution_count": 39,
   "metadata": {},
   "outputs": [
    {
     "data": {
      "text/html": [
       "<div>\n",
       "<style scoped>\n",
       "    .dataframe tbody tr th:only-of-type {\n",
       "        vertical-align: middle;\n",
       "    }\n",
       "\n",
       "    .dataframe tbody tr th {\n",
       "        vertical-align: top;\n",
       "    }\n",
       "\n",
       "    .dataframe thead th {\n",
       "        text-align: right;\n",
       "    }\n",
       "</style>\n",
       "<table border=\"1\" class=\"dataframe\">\n",
       "  <thead>\n",
       "    <tr style=\"text-align: right;\">\n",
       "      <th></th>\n",
       "      <th>fit_time</th>\n",
       "      <th>score_time</th>\n",
       "      <th>test_score</th>\n",
       "      <th>train_score</th>\n",
       "    </tr>\n",
       "  </thead>\n",
       "  <tbody>\n",
       "    <tr>\n",
       "      <th>0</th>\n",
       "      <td>4.445926</td>\n",
       "      <td>1.021426</td>\n",
       "      <td>0.810417</td>\n",
       "      <td>0.825313</td>\n",
       "    </tr>\n",
       "    <tr>\n",
       "      <th>1</th>\n",
       "      <td>4.451844</td>\n",
       "      <td>0.992540</td>\n",
       "      <td>0.820000</td>\n",
       "      <td>0.821042</td>\n",
       "    </tr>\n",
       "    <tr>\n",
       "      <th>2</th>\n",
       "      <td>4.167464</td>\n",
       "      <td>0.979428</td>\n",
       "      <td>0.813750</td>\n",
       "      <td>0.823021</td>\n",
       "    </tr>\n",
       "    <tr>\n",
       "      <th>3</th>\n",
       "      <td>4.307413</td>\n",
       "      <td>0.977790</td>\n",
       "      <td>0.811250</td>\n",
       "      <td>0.821667</td>\n",
       "    </tr>\n",
       "    <tr>\n",
       "      <th>4</th>\n",
       "      <td>4.091134</td>\n",
       "      <td>1.032028</td>\n",
       "      <td>0.808333</td>\n",
       "      <td>0.822396</td>\n",
       "    </tr>\n",
       "  </tbody>\n",
       "</table>\n",
       "</div>"
      ],
      "text/plain": [
       "   fit_time  score_time  test_score  train_score\n",
       "0  4.445926    1.021426    0.810417     0.825313\n",
       "1  4.451844    0.992540    0.820000     0.821042\n",
       "2  4.167464    0.979428    0.813750     0.823021\n",
       "3  4.307413    0.977790    0.811250     0.821667\n",
       "4  4.091134    1.032028    0.808333     0.822396"
      ]
     },
     "execution_count": 39,
     "metadata": {},
     "output_type": "execute_result"
    }
   ],
   "source": [
    "# SVC\n",
    "from sklearn.svm import SVC\n",
    "svm_pipeline = make_pipeline(preprocessor,SVC())\n",
    "cv_scores = cross_validate(svm_pipeline,X_train,y_train,return_train_score=True)\n",
    "pd.DataFrame(cv_scores)"
   ]
  },
  {
   "cell_type": "markdown",
   "metadata": {},
   "source": [
    "For SVC, the test and training scores are doing reasonably well and are on par with the linear model, but the fit time is too long to consider this model."
   ]
  },
  {
   "cell_type": "markdown",
   "metadata": {},
   "source": [
    "<!-- END QUESTION -->\n",
    "\n",
    "<br><br>"
   ]
  },
  {
   "cell_type": "markdown",
   "metadata": {},
   "source": [
    "<!-- END QUESTION -->\n",
    "\n",
    "<br><br>"
   ]
  },
  {
   "cell_type": "markdown",
   "metadata": {},
   "source": [
    "<!-- BEGIN QUESTION -->\n",
    "\n",
    "## 8. Hyperparameter optimization <a name=\"10\"></a>\n",
    "<hr>\n",
    "\n",
    "_points: 10_\n",
    "\n",
    "**Your tasks:**\n",
    "\n",
    "Make some attempts to optimize hyperparameters for the models you've tried and summarize your results. In at least one case you should be optimizing multiple hyperparameters for a single model. You may use `sklearn`'s methods for hyperparameter optimization or fancier Bayesian optimization methods. \n",
    "  - [GridSearchCV](http://scikit-learn.org/stable/modules/generated/sklearn.model_selection.GridSearchCV.html)   \n",
    "  - [RandomizedSearchCV](http://scikit-learn.org/stable/modules/generated/sklearn.model_selection.RandomizedSearchCV.html)\n",
    "  - [scikit-optimize](https://github.com/scikit-optimize/scikit-optimize) "
   ]
  },
  {
   "cell_type": "markdown",
   "metadata": {},
   "source": [
    "<div class=\"alert alert-warning\">\n",
    "    \n",
    "Solution_8\n",
    "    \n",
    "</div>"
   ]
  },
  {
   "cell_type": "markdown",
   "metadata": {},
   "source": [
    "Let's first try to tune the hyperparameter max_depth for our DecisionTreeClassifier pipelin to see if we can avoid some overfitting from the previous problem. "
   ]
  },
  {
   "cell_type": "code",
   "execution_count": 69,
   "metadata": {},
   "outputs": [
    {
     "data": {
      "text/html": [
       "<div>\n",
       "<style scoped>\n",
       "    .dataframe tbody tr th:only-of-type {\n",
       "        vertical-align: middle;\n",
       "    }\n",
       "\n",
       "    .dataframe tbody tr th {\n",
       "        vertical-align: top;\n",
       "    }\n",
       "\n",
       "    .dataframe thead th {\n",
       "        text-align: right;\n",
       "    }\n",
       "</style>\n",
       "<table border=\"1\" class=\"dataframe\">\n",
       "  <thead>\n",
       "    <tr style=\"text-align: right;\">\n",
       "      <th></th>\n",
       "      <th>param_decisiontreeclassifier__max_depth</th>\n",
       "      <th>rank_test_score</th>\n",
       "      <th>mean_test_score</th>\n",
       "      <th>std_test_score</th>\n",
       "      <th>mean_train_score</th>\n",
       "      <th>std_train_score</th>\n",
       "    </tr>\n",
       "  </thead>\n",
       "  <tbody>\n",
       "    <tr>\n",
       "      <th>0</th>\n",
       "      <td>1</td>\n",
       "      <td>2</td>\n",
       "      <td>0.815167</td>\n",
       "      <td>0.004762</td>\n",
       "      <td>0.815167</td>\n",
       "      <td>0.001191</td>\n",
       "    </tr>\n",
       "    <tr>\n",
       "      <th>1</th>\n",
       "      <td>2</td>\n",
       "      <td>1</td>\n",
       "      <td>0.815667</td>\n",
       "      <td>0.004863</td>\n",
       "      <td>0.816229</td>\n",
       "      <td>0.001181</td>\n",
       "    </tr>\n",
       "    <tr>\n",
       "      <th>2</th>\n",
       "      <td>3</td>\n",
       "      <td>4</td>\n",
       "      <td>0.815000</td>\n",
       "      <td>0.006562</td>\n",
       "      <td>0.817562</td>\n",
       "      <td>0.001068</td>\n",
       "    </tr>\n",
       "    <tr>\n",
       "      <th>3</th>\n",
       "      <td>4</td>\n",
       "      <td>3</td>\n",
       "      <td>0.815083</td>\n",
       "      <td>0.003520</td>\n",
       "      <td>0.820792</td>\n",
       "      <td>0.001969</td>\n",
       "    </tr>\n",
       "    <tr>\n",
       "      <th>4</th>\n",
       "      <td>5</td>\n",
       "      <td>5</td>\n",
       "      <td>0.814333</td>\n",
       "      <td>0.004755</td>\n",
       "      <td>0.823104</td>\n",
       "      <td>0.001013</td>\n",
       "    </tr>\n",
       "    <tr>\n",
       "      <th>5</th>\n",
       "      <td>6</td>\n",
       "      <td>6</td>\n",
       "      <td>0.811333</td>\n",
       "      <td>0.005555</td>\n",
       "      <td>0.827688</td>\n",
       "      <td>0.001406</td>\n",
       "    </tr>\n",
       "    <tr>\n",
       "      <th>6</th>\n",
       "      <td>7</td>\n",
       "      <td>7</td>\n",
       "      <td>0.807833</td>\n",
       "      <td>0.005213</td>\n",
       "      <td>0.834083</td>\n",
       "      <td>0.001842</td>\n",
       "    </tr>\n",
       "    <tr>\n",
       "      <th>7</th>\n",
       "      <td>8</td>\n",
       "      <td>8</td>\n",
       "      <td>0.802833</td>\n",
       "      <td>0.005384</td>\n",
       "      <td>0.842313</td>\n",
       "      <td>0.002077</td>\n",
       "    </tr>\n",
       "    <tr>\n",
       "      <th>8</th>\n",
       "      <td>9</td>\n",
       "      <td>9</td>\n",
       "      <td>0.800167</td>\n",
       "      <td>0.004538</td>\n",
       "      <td>0.851479</td>\n",
       "      <td>0.003274</td>\n",
       "    </tr>\n",
       "    <tr>\n",
       "      <th>9</th>\n",
       "      <td>10</td>\n",
       "      <td>10</td>\n",
       "      <td>0.797833</td>\n",
       "      <td>0.005722</td>\n",
       "      <td>0.862542</td>\n",
       "      <td>0.002881</td>\n",
       "    </tr>\n",
       "    <tr>\n",
       "      <th>10</th>\n",
       "      <td>11</td>\n",
       "      <td>11</td>\n",
       "      <td>0.791583</td>\n",
       "      <td>0.006222</td>\n",
       "      <td>0.874229</td>\n",
       "      <td>0.001667</td>\n",
       "    </tr>\n",
       "    <tr>\n",
       "      <th>11</th>\n",
       "      <td>12</td>\n",
       "      <td>12</td>\n",
       "      <td>0.786167</td>\n",
       "      <td>0.005422</td>\n",
       "      <td>0.887083</td>\n",
       "      <td>0.000801</td>\n",
       "    </tr>\n",
       "    <tr>\n",
       "      <th>12</th>\n",
       "      <td>13</td>\n",
       "      <td>13</td>\n",
       "      <td>0.779917</td>\n",
       "      <td>0.007151</td>\n",
       "      <td>0.899542</td>\n",
       "      <td>0.002105</td>\n",
       "    </tr>\n",
       "    <tr>\n",
       "      <th>13</th>\n",
       "      <td>14</td>\n",
       "      <td>14</td>\n",
       "      <td>0.771333</td>\n",
       "      <td>0.006210</td>\n",
       "      <td>0.912542</td>\n",
       "      <td>0.001285</td>\n",
       "    </tr>\n",
       "    <tr>\n",
       "      <th>14</th>\n",
       "      <td>15</td>\n",
       "      <td>15</td>\n",
       "      <td>0.767167</td>\n",
       "      <td>0.005734</td>\n",
       "      <td>0.923521</td>\n",
       "      <td>0.001618</td>\n",
       "    </tr>\n",
       "  </tbody>\n",
       "</table>\n",
       "</div>"
      ],
      "text/plain": [
       "   param_decisiontreeclassifier__max_depth  rank_test_score  mean_test_score  \\\n",
       "0                                        1                2         0.815167   \n",
       "1                                        2                1         0.815667   \n",
       "2                                        3                4         0.815000   \n",
       "3                                        4                3         0.815083   \n",
       "4                                        5                5         0.814333   \n",
       "5                                        6                6         0.811333   \n",
       "6                                        7                7         0.807833   \n",
       "7                                        8                8         0.802833   \n",
       "8                                        9                9         0.800167   \n",
       "9                                       10               10         0.797833   \n",
       "10                                      11               11         0.791583   \n",
       "11                                      12               12         0.786167   \n",
       "12                                      13               13         0.779917   \n",
       "13                                      14               14         0.771333   \n",
       "14                                      15               15         0.767167   \n",
       "\n",
       "    std_test_score  mean_train_score  std_train_score  \n",
       "0         0.004762          0.815167         0.001191  \n",
       "1         0.004863          0.816229         0.001181  \n",
       "2         0.006562          0.817562         0.001068  \n",
       "3         0.003520          0.820792         0.001969  \n",
       "4         0.004755          0.823104         0.001013  \n",
       "5         0.005555          0.827688         0.001406  \n",
       "6         0.005213          0.834083         0.001842  \n",
       "7         0.005384          0.842313         0.002077  \n",
       "8         0.004538          0.851479         0.003274  \n",
       "9         0.005722          0.862542         0.002881  \n",
       "10        0.006222          0.874229         0.001667  \n",
       "11        0.005422          0.887083         0.000801  \n",
       "12        0.007151          0.899542         0.002105  \n",
       "13        0.006210          0.912542         0.001285  \n",
       "14        0.005734          0.923521         0.001618  "
      ]
     },
     "execution_count": 69,
     "metadata": {},
     "output_type": "execute_result"
    }
   ],
   "source": [
    "# taken from lecture 8\n",
    "param_grid = {\n",
    "    \"decisiontreeclassifier__max_depth\": [1,2,3,4,5,6,7,8,9,10,11,12,13,14,15]\n",
    "}\n",
    "gs = GridSearchCV(d_tree_pipeline, \n",
    "                  param_grid = param_grid, \n",
    "                  n_jobs=-1, \n",
    "                  return_train_score=True\n",
    "                 )\n",
    "gs.fit(X_train,y_train)\n",
    "\n",
    "gs_results = gs.cv_results_\n",
    "keep_results = [\"param_decisiontreeclassifier__max_depth\",\"rank_test_score\",\"mean_test_score\",\"std_test_score\",\"mean_train_score\",\"std_train_score\"]\n",
    "results_df = pd.DataFrame(gs_results)[keep_results]\n",
    "results_df.sort_values(by=\"rank_test_score\")\n",
    "results_df"
   ]
  },
  {
   "cell_type": "code",
   "execution_count": 70,
   "metadata": {},
   "outputs": [
    {
     "name": "stdout",
     "output_type": "stream",
     "text": [
      "Best Parameters: {'decisiontreeclassifier__max_depth': 2}\n",
      "Best Score: 0.8156666666666667\n"
     ]
    }
   ],
   "source": [
    "print(\"Best Parameters:\", gs.best_params_)\n",
    "print(\"Best Score:\", gs.best_score_)"
   ]
  },
  {
   "cell_type": "markdown",
   "metadata": {},
   "source": [
    "From these results, we can see that the best max_depth would be 2. Furthermore, for max_depth values 1-15 we can see that there is significantly less overfitting than the default used in the previous question since the mean_train_score is smaller. However, the test score is essentially the same as the linear model, so we can not fully conclude that this is the optimal model. Let's test this on the test split."
   ]
  },
  {
   "cell_type": "code",
   "execution_count": 77,
   "metadata": {},
   "outputs": [
    {
     "data": {
      "text/plain": [
       "0.8228888888888889"
      ]
     },
     "execution_count": 77,
     "metadata": {},
     "output_type": "execute_result"
    }
   ],
   "source": [
    "best_depth = gs.best_params_['decisiontreeclassifier__max_depth']\n",
    "d_tree_pipeline_best = make_pipeline(preprocessor,DecisionTreeClassifier(max_depth=best_depth))\n",
    "d_tree_pipeline_best.fit(X_train,y_train)\n",
    "d_tree_pipeline_best.score(X_test,y_test)"
   ]
  },
  {
   "cell_type": "markdown",
   "metadata": {},
   "source": [
    "We will also try to tune the hyperparameters for SVC. We will skip the KNNeighbour since SVC generally works better."
   ]
  },
  {
   "cell_type": "code",
   "execution_count": 22,
   "metadata": {},
   "outputs": [
    {
     "name": "stdout",
     "output_type": "stream",
     "text": [
      "Best Parameters: {'svc__C': 10, 'svc__gamma': 0.01}\n",
      "Best Score: 0.8136666666666666\n"
     ]
    }
   ],
   "source": [
    "param_grid = {\n",
    "    \"svc__gamma\": [0.001, 0.01, 0.1, 1.0, 10, 100],\n",
    "    \"svc__C\": [0.001, 0.01, 0.1, 1.0, 10, 100]\n",
    "}\n",
    "\n",
    "# Create a grid search object \n",
    "gs_svc = GridSearchCV(svm_pipeline, \n",
    "                  param_grid = param_grid, \n",
    "                  n_jobs=-1, \n",
    "                  return_train_score=True\n",
    "                 )\n",
    "gs_svc.fit(X_train,y_train)\n",
    "print(\"Best Parameters:\", gs_svc.best_params_)\n",
    "print(\"Best Score:\", gs_svc.best_score_)"
   ]
  },
  {
   "cell_type": "markdown",
   "metadata": {},
   "source": [
    "As we can see, the svc score is on par with the other models, but the fit time is significantly longer. Let's try the testing split for further analysis."
   ]
  },
  {
   "cell_type": "code",
   "execution_count": 76,
   "metadata": {},
   "outputs": [
    {
     "data": {
      "text/plain": [
       "0.8212222222222222"
      ]
     },
     "execution_count": 76,
     "metadata": {},
     "output_type": "execute_result"
    }
   ],
   "source": [
    "best_C = gs_svc.best_params_['svc__C']\n",
    "best_gamma = gs_svc.best_params_['svc__gamma']\n",
    "d_tree_svc_best = make_pipeline(preprocessor,SVC(C=best_C,gamma=best_gamma))\n",
    "d_tree_svc_best.fit(X_train,y_train)\n",
    "d_tree_svc_best.score(X_test,y_test)"
   ]
  },
  {
   "cell_type": "markdown",
   "metadata": {},
   "source": [
    "As we can see, the test score is only slightly better than the linear model, from this we can conclude that the long fit time is not worth the trade off for a higher score."
   ]
  },
  {
   "cell_type": "markdown",
   "metadata": {},
   "source": [
    "<!-- END QUESTION -->\n",
    "\n",
    "<br><br>"
   ]
  },
  {
   "cell_type": "markdown",
   "metadata": {},
   "source": [
    "<!-- END QUESTION -->\n",
    "\n",
    "<br><br>"
   ]
  },
  {
   "cell_type": "markdown",
   "metadata": {
    "tags": []
   },
   "source": [
    "<!-- BEGIN QUESTION -->\n",
    "\n",
    "## 9. Results on the test set <a name=\"12\"></a>\n",
    "<hr>\n",
    "\n",
    "_points: 10_\n",
    "\n",
    "**Your tasks:**\n",
    "\n",
    "1. Try your best performing model on the test data: report and explain test scores.\n",
    "2. Do the test scores agree with the validation scores from before? To what extent do you trust your results? Do you think you've had issues with optimization bias?"
   ]
  },
  {
   "cell_type": "markdown",
   "metadata": {},
   "source": [
    "<div class=\"alert alert-warning\">\n",
    "    \n",
    "Solution_9\n",
    "    \n",
    "</div>"
   ]
  },
  {
   "cell_type": "code",
   "execution_count": 65,
   "metadata": {},
   "outputs": [
    {
     "name": "stdout",
     "output_type": "stream",
     "text": [
      "The test score for the linear model is 0.8121111111111111\n"
     ]
    }
   ],
   "source": [
    "linear_pipe.fit(X_train,y_train)\n",
    "linear_pipe.score(X_test,y_test)\n",
    "print(\"The test score for the linear model is\", linear_pipe.score(X_test,y_test))"
   ]
  },
  {
   "cell_type": "markdown",
   "metadata": {},
   "source": [
    "9.2: "
   ]
  },
  {
   "cell_type": "markdown",
   "metadata": {},
   "source": [
    "<!-- END QUESTION -->\n",
    "\n",
    "<br><br>"
   ]
  },
  {
   "cell_type": "markdown",
   "metadata": {},
   "source": [
    "<!-- BEGIN QUESTION -->\n",
    "\n",
    "## 10. Summary of results <a name=\"13\"></a>\n",
    "<hr>\n",
    "\n",
    "_points 12_\n",
    "\n",
    "Imagine that you want to present the summary of these results to your boss and co-workers. \n",
    "\n",
    "**Your tasks:**\n",
    "\n",
    "1. Create a table (printed `DataFrame`) summarizing important results. \n",
    "2. Write concluding remarks.\n",
    "3. Discuss other ideas that you did not try but could potentially improve the performance/interpretability . \n",
    "3. Report your final test score along with the metric you used at the top of this notebook in the [Submission instructions section](#si)."
   ]
  },
  {
   "cell_type": "markdown",
   "metadata": {},
   "source": [
    "<div class=\"alert alert-warning\">\n",
    "    \n",
    "Solution_10\n",
    "    \n",
    "</div>"
   ]
  },
  {
   "cell_type": "markdown",
   "metadata": {},
   "source": [
    "_Type your answer here, replacing this text._"
   ]
  },
  {
   "cell_type": "markdown",
   "metadata": {},
   "source": [
    "<!-- END QUESTION -->\n",
    "\n",
    "<br><br>"
   ]
  },
  {
   "cell_type": "markdown",
   "metadata": {},
   "source": [
    "<!-- END QUESTION -->\n",
    "\n",
    "<br><br>"
   ]
  },
  {
   "cell_type": "markdown",
   "metadata": {},
   "source": [
    "**PLEASE READ:** When you are ready to submit your assignment do the following:\n",
    "\n",
    "1. Run all cells in your notebook to make sure there are no errors by doing `Kernel -> Restart Kernel and Clear All Outputs` and then `Run -> Run All Cells`. \n",
    "2. Notebooks with cell execution numbers out of order or not starting from “1” will have marks deducted. Notebooks without the output displayed may not be graded at all (because we need to see the output in order to grade your work).\n",
    "3. Upload the assignment using [PrairieLearn](https://ca.prairielearn.com/pl/course_instance/6697). Don't forget to rename your file `hw4_sol.ipynb`."
   ]
  },
  {
   "cell_type": "markdown",
   "metadata": {},
   "source": [
    "This was a tricky one but you did it!"
   ]
  },
  {
   "cell_type": "markdown",
   "metadata": {},
   "source": [
    "![](img/eva-well-done.png)"
   ]
  }
 ],
 "metadata": {
  "kernelspec": {
   "display_name": "Python [conda env:cpsc330]",
   "language": "python",
   "name": "conda-env-cpsc330-py"
  },
  "language_info": {
   "codemirror_mode": {
    "name": "ipython",
    "version": 3
   },
   "file_extension": ".py",
   "mimetype": "text/x-python",
   "name": "python",
   "nbconvert_exporter": "python",
   "pygments_lexer": "ipython3",
   "version": "3.10.0"
  },
  "otter": {
   "OK_FORMAT": true,
   "tests": {}
  }
 },
 "nbformat": 4,
 "nbformat_minor": 4
}
